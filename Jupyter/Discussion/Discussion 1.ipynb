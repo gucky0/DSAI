{
 "cells": [
  {
   "cell_type": "markdown",
   "id": "abfa9eee",
   "metadata": {},
   "source": [
    "Discussion 1: Problrm Formulation\n",
    "\n",
    "![](../Resources/Discussion1_Question1.png)\n",
    "\n",
    "1. What is the expected sales of pokemon arceus? What is the expected number of covid cases next month? (Predictions for the expected number of cases can be made based on data from previous months)\n",
    "2. Is the person vaccinated? (The answer is either yes or no, which is a type A or type B situation.)\n",
    "3. Facebook users by age group. (Organized with clear distinct relations from a wide range.) Can also use examples with wide price range.\n",
    "4. Shopee products by price.\n",
    "Identify the next Low Kean Yew based on the performance of singapore badminton players (A champion level player will stand out from the rest and this can be detected as an anomaly)\n",
    "5. Is it worth to hold or sell the stocks in hand? (Either action is a possibility with its own outcome. Through adaptive learning, the action that carries the reward will be found.)\n",
    "\n",
    "![](../Resources/Discussion1_Question2.png)\n",
    "\n",
    "DataType: Numeric Structured Data \n",
    "\n",
    "Data problem: Decision Action\n",
    "\n",
    "* Acquire data of condo prices in Singapore \n",
    "* Collate data\n",
    "* Analyze the data and obtain mean, median, quartiles, min and max\n",
    "* Compare the price quoted by the seller with that collated and make an informed decision.\n",
    "\n",
    "![](../Resources/Discussion1_Question3.png)\n",
    "\n",
    "DataType: Categorical Structured Data\n",
    "\n",
    "Data problem: Detection Structure\n",
    "\n",
    "* Acquire data of whales in the South China Sea \n",
    "* Collate data\n",
    "* Detect number of types of whales\n",
    "* Show to friend"
   ]
  }
 ],
 "metadata": {
  "kernelspec": {
   "display_name": "Python 3 (ipykernel)",
   "language": "python",
   "name": "python3"
  },
  "language_info": {
   "codemirror_mode": {
    "name": "ipython",
    "version": 3
   },
   "file_extension": ".py",
   "mimetype": "text/x-python",
   "name": "python",
   "nbconvert_exporter": "python",
   "pygments_lexer": "ipython3",
   "version": "3.9.7"
  }
 },
 "nbformat": 4,
 "nbformat_minor": 5
}
